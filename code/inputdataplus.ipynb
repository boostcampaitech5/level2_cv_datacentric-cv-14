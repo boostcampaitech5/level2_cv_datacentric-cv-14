{
 "cells": [
  {
   "cell_type": "code",
   "execution_count": 29,
   "id": "bb9eae25-76c0-401c-b161-cdab7e5c0eb5",
   "metadata": {},
   "outputs": [
    {
     "name": "stdout",
     "output_type": "stream",
     "text": [
      "{'images': [{'image.make.code': '5350109', 'image.make.year': '2001', 'image.category': '인.허가', 'image.width': 2473, 'image.height': 3532, 'image.file.name': '5350109-2001-0001-0230.jpg', 'image.create.time': '2020-12-16 04:08:42'}], 'annotations': [{'id': 0, 'annotation.type': 'rectangle', 'annotation.text': '\"김해를', 'annotation.ttype': 'textType1', 'annotation.bbox': [760, 325, 211, 69]}, {'id': 1, 'annotation.type': 'rectangle', 'annotation.text': '아름답게', 'annotation.ttype': 'textType1', 'annotation.bbox': [990, 322, 237, 75]}, {'id': 2, 'annotation.type': 'rectangle', 'annotation.text': '시민을', 'annotation.ttype': 'textType1', 'annotation.bbox': [1236, 322, 186, 72]}, {'id': 3, 'annotation.type': 'rectangle', 'annotation.text': '행복하게', 'annotation.ttype': 'textType1', 'annotation.bbox': [1438, 322, 233, 72]}, {'id': 4, 'annotation.type': 'rectangle', 'annotation.text': '\"', 'annotation.ttype': 'textType1', 'annotation.bbox': [1693, 325, 35, 25]}, {'id': 5, 'annotation.type': 'rectangle', 'annotation.text': '김', 'annotation.ttype': 'textType1', 'annotation.bbox': [899, 391, 98, 95]}, {'id': 6, 'annotation.type': 'rectangle', 'annotation.text': '해', 'annotation.ttype': 'textType1', 'annotation.bbox': [1176, 394, 95, 92]}, {'id': 7, 'annotation.type': 'rectangle', 'annotation.text': '시', 'annotation.ttype': 'textType1', 'annotation.bbox': [1454, 391, 91, 91]}, {'id': 8, 'annotation.type': 'rectangle', 'annotation.text': '우', 'annotation.ttype': 'textType1', 'annotation.bbox': [259, 489, 63, 63]}, {'id': 9, 'annotation.type': 'rectangle', 'annotation.text': '621-010', 'annotation.ttype': 'textType1', 'annotation.bbox': [331, 492, 211, 54]}, {'id': 10, 'annotation.type': 'rectangle', 'annotation.text': '김해시', 'annotation.ttype': 'textType1', 'annotation.bbox': [558, 486, 161, 69]}, {'id': 11, 'annotation.type': 'rectangle', 'annotation.text': '부원동623/(행)331(일)', 'annotation.ttype': 'textType1', 'annotation.bbox': [741, 489, 574, 63]}, {'id': 12, 'annotation.type': 'rectangle', 'annotation.text': '(0525)330-3331/전송(0525)336-1979', 'annotation.ttype': 'textType1', 'annotation.bbox': [1306, 486, 936, 63]}, {'id': 13, 'annotation.type': 'rectangle', 'annotation.text': '환경보호과', 'annotation.ttype': 'textType1', 'annotation.bbox': [255, 552, 278, 66]}, {'id': 14, 'annotation.type': 'rectangle', 'annotation.text': '과장김필선환경관리담당주사', 'annotation.ttype': 'textType1', 'annotation.bbox': [618, 549, 833, 71]}, {'id': 15, 'annotation.type': 'rectangle', 'annotation.text': '최홍식', 'annotation.ttype': 'textType1', 'annotation.bbox': [1485, 549, 212, 66]}, {'id': 16, 'annotation.type': 'rectangle', 'annotation.text': '담당자 이문호', 'annotation.ttype': 'textType1', 'annotation.bbox': [1785, 546, 426, 69]}, {'id': 17, 'annotation.type': 'rectangle', 'annotation.text': '문서번호', 'annotation.ttype': 'textType1', 'annotation.bbox': [233, 706, 221, 70]}, {'id': 18, 'annotation.type': 'rectangle', 'annotation.text': '환보', 'annotation.ttype': 'textType1', 'annotation.bbox': [470, 713, 113, 60]}, {'id': 19, 'annotation.type': 'rectangle', 'annotation.text': '67321-1640', 'annotation.ttype': 'textType1', 'annotation.bbox': [596, 710, 319, 56]}, {'id': 20, 'annotation.type': 'rectangle', 'annotation.text': '선람', 'annotation.ttype': 'textType1', 'annotation.bbox': [1179, 738, 67, 142]}, {'id': 21, 'annotation.type': 'rectangle', 'annotation.text': '지시', 'annotation.ttype': 'textType1', 'annotation.bbox': [1725, 788, 57, 142]}, {'id': 22, 'annotation.type': 'rectangle', 'annotation.text': '일자', 'annotation.ttype': 'textType1', 'annotation.bbox': [1287, 924, 116, 69]}, {'id': 23, 'annotation.type': 'rectangle', 'annotation.text': '접수', 'annotation.ttype': 'textType1', 'annotation.bbox': [1179, 974, 67, 146]}, {'id': 24, 'annotation.type': 'rectangle', 'annotation.text': '시간', 'annotation.ttype': 'textType1', 'annotation.bbox': [1284, 1000, 122, 72]}, {'id': 25, 'annotation.type': 'rectangle', 'annotation.text': '번호', 'annotation.ttype': 'textType1', 'annotation.bbox': [1284, 1113, 116, 66]}, {'id': 26, 'annotation.type': 'rectangle', 'annotation.text': '처리과', 'annotation.ttype': 'textType1', 'annotation.bbox': [1208, 1214, 173, 70]}, {'id': 27, 'annotation.type': 'rectangle', 'annotation.text': '담당자', 'annotation.ttype': 'textType1', 'annotation.bbox': [1208, 1312, 176, 69]}, {'id': 28, 'annotation.type': 'rectangle', 'annotation.text': '심사자', 'annotation.ttype': 'textType1', 'annotation.bbox': [1211, 1413, 177, 72]}, {'id': 29, 'annotation.type': 'rectangle', 'annotation.text': '목', 'annotation.ttype': 'textType1', 'annotation.bbox': [378, 1529, 70, 64]}, {'id': 30, 'annotation.type': 'rectangle', 'annotation.text': '소음배출시설', 'annotation.ttype': 'textType1', 'annotation.bbox': [460, 1526, 322, 67]}, {'id': 31, 'annotation.type': 'rectangle', 'annotation.text': '설치신고', 'annotation.ttype': 'textType1', 'annotation.bbox': [801, 1529, 218, 64]}, {'id': 32, 'annotation.type': 'rectangle', 'annotation.text': '수리통보', 'annotation.ttype': 'textType1', 'annotation.bbox': [1027, 1528, 221, 69]}, {'id': 33, 'annotation.type': 'rectangle', 'annotation.text': '1.', 'annotation.ttype': 'textType1', 'annotation.bbox': [476, 1659, 60, 50]}, {'id': 34, 'annotation.type': 'rectangle', 'annotation.text': '귀하께서', 'annotation.ttype': 'textType1', 'annotation.bbox': [558, 1649, 211, 67]}, {'id': 35, 'annotation.type': 'rectangle', 'annotation.text': '제출하신', 'annotation.ttype': 'textType1', 'annotation.bbox': [788, 1649, 218, 70]}, {'id': 36, 'annotation.type': 'rectangle', 'annotation.text': '소음배출시설', 'annotation.ttype': 'textType1', 'annotation.bbox': [1022, 1649, 318, 70]}, {'id': 37, 'annotation.type': 'rectangle', 'annotation.text': '설치신고에', 'annotation.ttype': 'textType1', 'annotation.bbox': [1356, 1649, 265, 67]}, {'id': 38, 'annotation.type': 'rectangle', 'annotation.text': '대하여는', 'annotation.ttype': 'textType1', 'annotation.bbox': [1640, 1649, 224, 70]}, {'id': 39, 'annotation.type': 'rectangle', 'annotation.text': '소음.진동규제', 'annotation.ttype': 'textType1', 'annotation.bbox': [1876, 1656, 350, 63]}, {'id': 40, 'annotation.type': 'rectangle', 'annotation.text': '법', 'annotation.ttype': 'textType1', 'annotation.bbox': [240, 1738, 60, 63]}, {'id': 41, 'annotation.type': 'rectangle', 'annotation.text': '제9조제1항의', 'annotation.ttype': 'textType1', 'annotation.bbox': [312, 1738, 322, 63]}, {'id': 42, 'annotation.type': 'rectangle', 'annotation.text': '규정에', 'annotation.ttype': 'textType1', 'annotation.bbox': [653, 1734, 161, 67]}, {'id': 43, 'annotation.type': 'rectangle', 'annotation.text': '의거', 'annotation.ttype': 'textType1', 'annotation.bbox': [836, 1734, 104, 67]}, {'id': 44, 'annotation.type': 'rectangle', 'annotation.text': '다음과', 'annotation.ttype': 'textType1', 'annotation.bbox': [962, 1734, 164, 67]}, {'id': 45, 'annotation.type': 'rectangle', 'annotation.text': '같이', 'annotation.ttype': 'textType1', 'annotation.bbox': [1142, 1734, 107, 67]}, {'id': 46, 'annotation.type': 'rectangle', 'annotation.text': '수리하고', 'annotation.ttype': 'textType1', 'annotation.bbox': [1265, 1734, 220, 67]}, {'id': 47, 'annotation.type': 'rectangle', 'annotation.text': '통보하오니', 'annotation.ttype': 'textType1', 'annotation.bbox': [1498, 1734, 268, 67]}, {'id': 48, 'annotation.type': 'rectangle', 'annotation.text': '면허세(3,000원)영', 'annotation.ttype': 'textType1', 'annotation.bbox': [1788, 1737, 464, 64]}, {'id': 49, 'annotation.type': 'rectangle', 'annotation.text': '수필중', 'annotation.ttype': 'textType1', 'annotation.bbox': [237, 1816, 167, 67]}, {'id': 50, 'annotation.type': 'rectangle', 'annotation.text': '및', 'annotation.ttype': 'textType1', 'annotation.bbox': [416, 1823, 57, 57]}, {'id': 51, 'annotation.type': 'rectangle', 'annotation.text': '지역개발공채(30,000원)매입필중을', 'annotation.ttype': 'textType1', 'annotation.bbox': [495, 1820, 855, 66]}, {'id': 52, 'annotation.type': 'rectangle', 'annotation.text': '시청', 'annotation.ttype': 'textType1', 'annotation.bbox': [1365, 1820, 108, 63]}, {'id': 53, 'annotation.type': 'rectangle', 'annotation.text': '환경보호과에', 'annotation.ttype': 'textType1', 'annotation.bbox': [1495, 1823, 315, 63]}, {'id': 54, 'annotation.type': 'rectangle', 'annotation.text': '제출하여', 'annotation.ttype': 'textType1', 'annotation.bbox': [1829, 1820, 215, 66]}, {'id': 55, 'annotation.type': 'rectangle', 'annotation.text': '주시기', 'annotation.ttype': 'textType1', 'annotation.bbox': [2066, 1820, 160, 69]}, {'id': 56, 'annotation.type': 'rectangle', 'annotation.text': '바랍니다.', 'annotation.ttype': 'textType1', 'annotation.bbox': [237, 1902, 239, 66]}, {'id': 57, 'annotation.type': 'rectangle', 'annotation.text': '2.', 'annotation.ttype': 'textType1', 'annotation.bbox': [476, 1996, 60, 48]}, {'id': 58, 'annotation.type': 'rectangle', 'annotation.text': '수리내역', 'annotation.ttype': 'textType1', 'annotation.bbox': [555, 1984, 218, 69]}, {'id': 59, 'annotation.type': 'rectangle', 'annotation.text': '시행일자', 'annotation.ttype': 'textType1', 'annotation.bbox': [237, 899, 220, 69]}, {'id': 60, 'annotation.type': 'rectangle', 'annotation.text': '2000.9.8', 'annotation.ttype': 'textType1', 'annotation.bbox': [489, 899, 252, 60]}, {'id': 61, 'annotation.type': 'rectangle', 'annotation.text': '수', 'annotation.ttype': 'textType1', 'annotation.bbox': [237, 1028, 63, 66]}, {'id': 62, 'annotation.type': 'rectangle', 'annotation.text': '신', 'annotation.ttype': 'textType1', 'annotation.bbox': [385, 1028, 63, 66]}, {'id': 63, 'annotation.type': 'rectangle', 'annotation.text': '동남산업', 'annotation.ttype': 'textType1', 'annotation.bbox': [457, 1028, 218, 66]}, {'id': 64, 'annotation.type': 'rectangle', 'annotation.text': '대표', 'annotation.ttype': 'textType1', 'annotation.bbox': [694, 1028, 113, 63]}, {'id': 65, 'annotation.type': 'rectangle', 'annotation.text': '참', 'annotation.ttype': 'textType1', 'annotation.bbox': [240, 1157, 63, 67]}, {'id': 66, 'annotation.type': 'rectangle', 'annotation.text': '조', 'annotation.ttype': 'textType1', 'annotation.bbox': [385, 1164, 60, 50]}, {'id': 67, 'annotation.type': 'rectangle', 'annotation.text': '결재공람', 'annotation.ttype': 'textType1', 'annotation.bbox': [1725, 1053, 63, 294]}, {'id': 68, 'annotation.type': 'rectangle', 'annotation.text': '심사일', 'annotation.ttype': 'textType1', 'annotation.bbox': [1760, 1416, 170, 66]}, {'id': 69, 'annotation.type': 'rectangle', 'annotation.text': '제', 'annotation.ttype': 'textType1', 'annotation.bbox': [237, 1529, 59, 64]}, {'id': 70, 'annotation.type': 'rectangle', 'annotation.text': '신고', 'annotation.ttype': 'textType1', 'annotation.bbox': [268, 2103, 117, 64]}, {'id': 71, 'annotation.type': 'rectangle', 'annotation.text': '업소명', 'annotation.ttype': 'textType1', 'annotation.bbox': [426, 2141, 164, 67]}, {'id': 72, 'annotation.type': 'rectangle', 'annotation.text': '번호', 'annotation.ttype': 'textType1', 'annotation.bbox': [265, 2176, 123, 66]}, {'id': 73, 'annotation.type': 'rectangle', 'annotation.text': '소재지', 'annotation.ttype': 'textType1', 'annotation.bbox': [650, 2138, 164, 70]}, {'id': 74, 'annotation.type': 'rectangle', 'annotation.text': '대표자', 'annotation.ttype': 'textType1', 'annotation.bbox': [870, 2141, 174, 67]}, {'id': 75, 'annotation.type': 'rectangle', 'annotation.text': '업 종', 'annotation.ttype': 'textType1', 'annotation.bbox': [1091, 2141, 139, 67]}, {'id': 76, 'annotation.type': 'rectangle', 'annotation.text': '구분', 'annotation.ttype': 'textType1', 'annotation.bbox': [1274, 2141, 120, 67]}, {'id': 77, 'annotation.type': 'rectangle', 'annotation.text': '시설내역', 'annotation.ttype': 'textType1', 'annotation.bbox': [1649, 2097, 360, 60]}, {'id': 78, 'annotation.type': 'rectangle', 'annotation.text': '배출시설', 'annotation.ttype': 'textType1', 'annotation.bbox': [1498, 2189, 221, 69]}, {'id': 79, 'annotation.type': 'rectangle', 'annotation.text': '방지시설', 'annotation.ttype': 'textType1', 'annotation.bbox': [1921, 2192, 220, 66]}, {'id': 80, 'annotation.type': 'rectangle', 'annotation.text': '플라스', 'annotation.ttype': 'textType1', 'annotation.bbox': [1075, 2289, 171, 70]}, {'id': 81, 'annotation.type': 'rectangle', 'annotation.text': '(소음)', 'annotation.ttype': 'textType1', 'annotation.bbox': [1432, 2334, 170, 60]}, {'id': 82, 'annotation.type': 'rectangle', 'annotation.text': '틱제품', 'annotation.ttype': 'textType1', 'annotation.bbox': [1075, 2365, 171, 70]}, {'id': 83, 'annotation.type': 'rectangle', 'annotation.text': '소음', 'annotation.ttype': 'textType1', 'annotation.bbox': [1274, 2368, 120, 67]}, {'id': 84, 'annotation.type': 'rectangle', 'annotation.text': '방음실:1,200㎥', 'annotation.ttype': 'textType1', 'annotation.bbox': [1835, 2368, 388, 67]}, {'id': 85, 'annotation.type': 'rectangle', 'annotation.text': '성형기:', 'annotation.ttype': 'textType1', 'annotation.bbox': [1432, 2406, 189, 66]}, {'id': 86, 'annotation.type': 'rectangle', 'annotation.text': '50HP*1', 'annotation.ttype': 'textType1', 'annotation.bbox': [1619, 2407, 179, 54]}, {'id': 87, 'annotation.type': 'rectangle', 'annotation.text': '제 조', 'annotation.ttype': 'textType1', 'annotation.bbox': [1082, 2447, 157, 60]}, {'id': 88, 'annotation.type': 'rectangle', 'annotation.text': '*1', 'annotation.ttype': 'textType1', 'annotation.bbox': [2126, 2453, 67, 47]}, {'id': 89, 'annotation.type': 'rectangle', 'annotation.text': '한림면', 'annotation.ttype': 'textType1', 'annotation.bbox': [653, 2289, 164, 67]}, {'id': 90, 'annotation.type': 'rectangle', 'annotation.text': '안하리', 'annotation.ttype': 'textType1', 'annotation.bbox': [653, 2365, 164, 73]}, {'id': 91, 'annotation.type': 'rectangle', 'annotation.text': '642-1', 'annotation.ttype': 'textType1', 'annotation.bbox': [656, 2447, 154, 54]}, {'id': 92, 'annotation.type': 'rectangle', 'annotation.text': '3.', 'annotation.ttype': 'textType1', 'annotation.bbox': [476, 2567, 66, 54]}, {'id': 93, 'annotation.type': 'rectangle', 'annotation.text': '준수사항', 'annotation.ttype': 'textType1', 'annotation.bbox': [555, 2558, 224, 69]}, {'id': 94, 'annotation.type': 'rectangle', 'annotation.text': '1)', 'annotation.ttype': 'textType1', 'annotation.bbox': [501, 2696, 70, 57]}, {'id': 95, 'annotation.type': 'rectangle', 'annotation.text': '소음.', 'annotation.ttype': 'textType1', 'annotation.bbox': [587, 2696, 129, 60]}, {'id': 96, 'annotation.type': 'rectangle', 'annotation.text': '진동배출시설설치', 'annotation.ttype': 'textType1', 'annotation.bbox': [713, 2690, 422, 66]}, {'id': 97, 'annotation.type': 'rectangle', 'annotation.text': '완료후', 'annotation.ttype': 'textType1', 'annotation.bbox': [1157, 2696, 161, 60]}, {'id': 98, 'annotation.type': 'rectangle', 'annotation.text': '동시설을', 'annotation.ttype': 'textType1', 'annotation.bbox': [1334, 2690, 214, 66]}, {'id': 99, 'annotation.type': 'rectangle', 'annotation.text': '가동하고자', 'annotation.ttype': 'textType1', 'annotation.bbox': [1564, 2690, 275, 66]}, {'id': 100, 'annotation.type': 'rectangle', 'annotation.text': '할', 'annotation.ttype': 'textType1', 'annotation.bbox': [1851, 2690, 66, 66]}, {'id': 101, 'annotation.type': 'rectangle', 'annotation.text': '경우', 'annotation.ttype': 'textType1', 'annotation.bbox': [1930, 2687, 114, 66]}, {'id': 102, 'annotation.type': 'rectangle', 'annotation.text': '환경부', 'annotation.ttype': 'textType1', 'annotation.bbox': [2056, 2687, 170, 66]}, {'id': 103, 'annotation.type': 'rectangle', 'annotation.text': '령이', 'annotation.ttype': 'textType1', 'annotation.bbox': [240, 2753, 107, 69]}, {'id': 104, 'annotation.type': 'rectangle', 'annotation.text': '정하는', 'annotation.ttype': 'textType1', 'annotation.bbox': [366, 2756, 167, 63]}, {'id': 105, 'annotation.type': 'rectangle', 'annotation.text': '바에', 'annotation.ttype': 'textType1', 'annotation.bbox': [546, 2753, 110, 69]}, {'id': 106, 'annotation.type': 'rectangle', 'annotation.text': '따라', 'annotation.ttype': 'textType1', 'annotation.bbox': [675, 2753, 117, 66]}, {'id': 107, 'annotation.type': 'rectangle', 'annotation.text': '미리', 'annotation.ttype': 'textType1', 'annotation.bbox': [804, 2753, 107, 66]}, {'id': 108, 'annotation.type': 'rectangle', 'annotation.text': '가동개시신고', 'annotation.ttype': 'textType1', 'annotation.bbox': [933, 2756, 319, 66]}, {'id': 109, 'annotation.type': 'rectangle', 'annotation.text': '및', 'annotation.ttype': 'textType1', 'annotation.bbox': [1265, 2756, 63, 63]}, {'id': 110, 'annotation.type': 'rectangle', 'annotation.text': '환경관리인', 'annotation.ttype': 'textType1', 'annotation.bbox': [1343, 2756, 265, 63]}, {'id': 111, 'annotation.type': 'rectangle', 'annotation.text': '임명신고를', 'annotation.ttype': 'textType1', 'annotation.bbox': [1630, 2756, 268, 63]}, {'id': 112, 'annotation.type': 'rectangle', 'annotation.text': '하여야', 'annotation.ttype': 'textType1', 'annotation.bbox': [1911, 2753, 170, 66]}, {'id': 113, 'annotation.type': 'rectangle', 'annotation.text': '함.', 'annotation.ttype': 'textType1', 'annotation.bbox': [2097, 2759, 82, 57]}, {'id': 114, 'annotation.type': 'rectangle', 'annotation.text': '2)', 'annotation.ttype': 'textType1', 'annotation.bbox': [498, 2889, 73, 56]}, {'id': 115, 'annotation.type': 'rectangle', 'annotation.text': '가동개시일을', 'annotation.ttype': 'textType1', 'annotation.bbox': [583, 2882, 319, 67]}, {'id': 116, 'annotation.type': 'rectangle', 'annotation.text': '변경', 'annotation.ttype': 'textType1', 'annotation.bbox': [921, 2889, 107, 60]}, {'id': 117, 'annotation.type': 'rectangle', 'annotation.text': '하고자', 'annotation.ttype': 'textType1', 'annotation.bbox': [1050, 2889, 164, 60]}, {'id': 118, 'annotation.type': 'rectangle', 'annotation.text': '할', 'annotation.ttype': 'textType1', 'annotation.bbox': [1224, 2886, 63, 59]}, {'id': 119, 'annotation.type': 'rectangle', 'annotation.text': '경우에는', 'annotation.ttype': 'textType1', 'annotation.bbox': [1302, 2882, 215, 67]}, {'id': 120, 'annotation.type': 'rectangle', 'annotation.text': '미리', 'annotation.ttype': 'textType1', 'annotation.bbox': [1536, 2889, 104, 60]}, {'id': 121, 'annotation.type': 'rectangle', 'annotation.text': '가동개시변경신고서를', 'annotation.ttype': 'textType1', 'annotation.bbox': [1662, 2882, 536, 67]}, {'id': 122, 'annotation.type': 'rectangle', 'annotation.text': '제출', 'annotation.ttype': 'textType1', 'annotation.bbox': [240, 2949, 113, 63]}, {'id': 123, 'annotation.type': 'rectangle', 'annotation.text': '하여야', 'annotation.ttype': 'textType1', 'annotation.bbox': [366, 2949, 170, 66]}, {'id': 124, 'annotation.type': 'rectangle', 'annotation.text': '됨', 'annotation.ttype': 'textType1', 'annotation.bbox': [552, 2955, 60, 54]}, {'id': 125, 'annotation.type': 'rectangle', 'annotation.text': '3)', 'annotation.ttype': 'textType1', 'annotation.bbox': [498, 3081, 73, 57]}, {'id': 126, 'annotation.type': 'rectangle', 'annotation.text': '가동개시신고를', 'annotation.ttype': 'textType1', 'annotation.bbox': [583, 3075, 373, 69]}, {'id': 127, 'annotation.type': 'rectangle', 'annotation.text': '하지않고', 'annotation.ttype': 'textType1', 'annotation.bbox': [971, 3078, 218, 66]}, {'id': 128, 'annotation.type': 'rectangle', 'annotation.text': '조업을', 'annotation.ttype': 'textType1', 'annotation.bbox': [1202, 3078, 163, 66]}, {'id': 129, 'annotation.type': 'rectangle', 'annotation.text': '한', 'annotation.ttype': 'textType1', 'annotation.bbox': [1384, 3078, 60, 63]}, {'id': 130, 'annotation.type': 'rectangle', 'annotation.text': '자에', 'annotation.ttype': 'textType1', 'annotation.bbox': [1457, 3078, 107, 66]}, {'id': 131, 'annotation.type': 'rectangle', 'annotation.text': '대하여는', 'annotation.ttype': 'textType1', 'annotation.bbox': [1586, 3075, 218, 66]}, {'id': 132, 'annotation.type': 'rectangle', 'annotation.text': '소음.', 'annotation.ttype': 'textType1', 'annotation.bbox': [1820, 3081, 138, 60]}, {'id': 133, 'annotation.type': 'rectangle', 'annotation.text': '진동규제법', 'annotation.ttype': 'textType1', 'annotation.bbox': [1952, 3075, 268, 66]}, {'id': 134, 'annotation.type': 'rectangle', 'annotation.text': '제58조제2호의', 'annotation.ttype': 'textType1', 'annotation.bbox': [240, 3144, 347, 60]}, {'id': 135, 'annotation.type': 'rectangle', 'annotation.text': '규정에', 'annotation.ttype': 'textType1', 'annotation.bbox': [605, 3141, 161, 66]}, {'id': 136, 'annotation.type': 'rectangle', 'annotation.text': '의거', 'annotation.ttype': 'textType1', 'annotation.bbox': [788, 3141, 104, 66]}, {'id': 137, 'annotation.type': 'rectangle', 'annotation.text': '처벌을', 'annotation.ttype': 'textType1', 'annotation.bbox': [915, 3144, 164, 63]}, {'id': 138, 'annotation.type': 'rectangle', 'annotation.text': '받게', 'annotation.ttype': 'textType1', 'annotation.bbox': [1094, 3144, 111, 63]}, {'id': 139, 'annotation.type': 'rectangle', 'annotation.text': '됨.', 'annotation.ttype': 'textType1', 'annotation.bbox': [1224, 3147, 82, 60]}, {'id': 140, 'annotation.type': 'rectangle', 'annotation.text': '동남', 'annotation.ttype': 'textType1', 'annotation.bbox': [429, 2324, 161, 66]}, {'id': 141, 'annotation.type': 'rectangle', 'annotation.text': '540', 'annotation.ttype': 'textType1', 'annotation.bbox': [274, 2371, 101, 57]}, {'id': 142, 'annotation.type': 'rectangle', 'annotation.text': '산업', 'annotation.ttype': 'textType1', 'annotation.bbox': [426, 2404, 162, 67]}, {'id': 143, 'annotation.type': 'rectangle', 'annotation.text': '21', 'annotation.ttype': 'textType1', 'annotation.bbox': [2239, 3276, 73, 64]}]}\n"
     ]
    }
   ],
   "source": [
    "#공공문서 데이터 추가시키는 코드\n",
    "#어떤 사진을 추가했는지는 용환에게 물어보기\n",
    "#json파일 로드\n",
    "import json\n",
    "import os\n",
    "\n",
    "# 기존 train.json 파일 로드\n",
    "with open('../data/medical/ufo/train.json', 'r') as file:\n",
    "    train_data = json.load(file)\n",
    "\n",
    "# plusjson 디렉토리 안의 JSON 파일들 로드\n",
    "plusjson_path = './plus2001json'\n",
    "plusjson_files = os.listdir(plusjson_path)\n",
    "\n",
    "plusjson_data = []\n",
    "for file_name in plusjson_files:\n",
    "    with open(os.path.join(plusjson_path, file_name), 'r') as file:\n",
    "        plusjson_data.append(json.load(file))\n",
    "\n",
    "print(plusjson_data[1])"
   ]
  },
  {
   "cell_type": "code",
   "execution_count": 65,
   "id": "5eb05b6f-d2cb-4c99-8488-f851b129a740",
   "metadata": {},
   "outputs": [],
   "source": [
    "#포인트변환\n",
    "#데이터 병합\n",
    "for i,data in enumerate(plusjson_data):\n",
    "    # 이미지 파일명 추출\n",
    "    image_file_name = data['images'][0]['image.file.name']\n",
    "\n",
    "    # 이미지 파일의 정보를 train_data에 추가\n",
    "    train_data['images'][image_file_name]={'words': {},'tags':{},'annotation_log' : {}}\n",
    "    train_data['images'][image_file_name]['img_w']=data['images'][0]['image.width']\n",
    "    train_data['images'][image_file_name]['img_h']=data['images'][0]['image.height']\n",
    "    for j in range(len(data['annotations'])):\n",
    "        nj = str(j).zfill(4)\n",
    "        train_data['images'][image_file_name]['words'][nj]={'points':[],'tags':{}, 'illegibility': False}\n",
    "        tempbbox=data['annotations'][j]['annotation.bbox']\n",
    "        #두 json의 bbox 표현 방식이 다르니까 train.json에 맞춰주기 (공공데이터는 xmin,ymin,w,h로 되어있음)\n",
    "        for k in range(4):\n",
    "            nk=str(k)\n",
    "            if k==0:\n",
    "                train_data['images'][image_file_name]['words'][nj]['points'].append([tempbbox[0],tempbbox[1]])\n",
    "            elif k==1:\n",
    "                train_data['images'][image_file_name]['words'][nj]['points'].append([tempbbox[0]+tempbbox[2],tempbbox[1]])\n",
    "            elif k==1:\n",
    "                train_data['images'][image_file_name]['words'][nj]['points'].append([tempbbox[0],tempbbox[1]+tempbbox[3]])\n",
    "            else :\n",
    "                train_data['images'][image_file_name]['words'][nj]['points'].append([tempbbox[0]+tempbbox[2],tempbbox[1]+tempbbox[3]])\n",
    "            \n",
    "        \n",
    "    train_data['images'][image_file_name]"
   ]
  },
  {
   "cell_type": "code",
   "execution_count": 66,
   "id": "66ec329f-1478-4d6a-b8c7-6ad3ab7f56c4",
   "metadata": {},
   "outputs": [],
   "source": [
    "#데이터 저장\n",
    "with open('../data/medical/ufo/train.json', 'w') as file:\n",
    "    json.dump(train_data, file)"
   ]
  },
  {
   "cell_type": "code",
   "execution_count": 64,
   "id": "b22934d3-5c83-40ae-9f4e-ebbbd8e021fe",
   "metadata": {},
   "outputs": [
    {
     "name": "stderr",
     "output_type": "stream",
     "text": [
      "IOPub data rate exceeded.\n",
      "The Jupyter server will temporarily stop sending output\n",
      "to the client in order to avoid crashing it.\n",
      "To change this limit, set the config variable\n",
      "`--ServerApp.iopub_data_rate_limit`.\n",
      "\n",
      "Current values:\n",
      "ServerApp.iopub_data_rate_limit=1000000.0 (bytes/sec)\n",
      "ServerApp.rate_limit_window=3.0 (secs)\n",
      "\n"
     ]
    }
   ],
   "source": [
    "print(train_data['images'])"
   ]
  },
  {
   "cell_type": "code",
   "execution_count": null,
   "id": "8ffb0e74-07f0-47c6-9739-ca5edb8ceb66",
   "metadata": {},
   "outputs": [],
   "source": []
  }
 ],
 "metadata": {
  "kernelspec": {
   "display_name": "Python 3 (ipykernel)",
   "language": "python",
   "name": "python3"
  },
  "language_info": {
   "codemirror_mode": {
    "name": "ipython",
    "version": 3
   },
   "file_extension": ".py",
   "mimetype": "text/x-python",
   "name": "python",
   "nbconvert_exporter": "python",
   "pygments_lexer": "ipython3",
   "version": "3.8.5"
  }
 },
 "nbformat": 4,
 "nbformat_minor": 5
}
