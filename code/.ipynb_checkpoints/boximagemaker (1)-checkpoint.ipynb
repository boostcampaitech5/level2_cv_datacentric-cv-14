{
 "cells": [
  {
   "cell_type": "code",
   "execution_count": 45,
   "id": "113adbac-f09f-48fa-8d52-db9dd883b07e",
   "metadata": {
    "tags": []
   },
   "outputs": [],
   "source": [
    "import json\n",
    "import cv2\n",
    "import numpy as np\n",
    "import os"
   ]
  },
  {
   "cell_type": "code",
   "execution_count": 46,
   "id": "afb8c29e-d752-4090-b514-3c4c1a2ca1e9",
   "metadata": {
    "tags": []
   },
   "outputs": [],
   "source": [
    "with open('../data/medical/ufo/train.json', 'r') as f:\n",
    "    annotations = json.load(f)"
   ]
  },
  {
   "cell_type": "code",
   "execution_count": 47,
   "id": "85c8c610-4432-4c5f-8734-a476223a9bf7",
   "metadata": {
    "tags": []
   },
   "outputs": [
    {
     "name": "stdout",
     "output_type": "stream",
     "text": [
      "drp.en_ko.in_house.deepnatural_002411.jpg\n"
     ]
    }
   ],
   "source": [
    "# class_names = {}\n",
    "# for category in annotations['categories']:\n",
    "#     class_names[category['id']] = category['name']\n",
    "# print(class_names)\n",
    "#print(annotations['images']['drp.en_ko.in_house.deepnatural_002411.jpg'])\n",
    "for temp in annotations['images']:\n",
    "    print(temp)\n",
    "    break\n",
    "# print(annotations['annotations'][0])\n",
    "# print(len(annotations['annotations'][image_id]['bbox']))"
   ]
  },
  {
   "cell_type": "code",
   "execution_count": 78,
   "id": "00384471-1d44-43a3-9832-5a095164b8e9",
   "metadata": {},
   "outputs": [],
   "source": [
    "from PIL import Image, ImageDraw, ImageFont\n",
    "\n",
    "font_path = './NanumGothic.ttf'  # 폰트 파일 경로\n",
    "font_size = 20  # 폰트 크기\n",
    "font_color = (0, 0, 255)  # 폰트 색상 (파란색)\n",
    "\n",
    "# 폰트 로드\n",
    "font = ImageFont.truetype(font_path, font_size)\n",
    "\n",
    "for image_info in annotations['images']:\n",
    "    # 이미지 경로\n",
    "    image_path = os.path.join('../data/medical/img/train', image_info)\n",
    "    image = Image.open(image_path)\n",
    "    draw = ImageDraw.Draw(image)  # ImageDraw 객체 생성\n",
    "\n",
    "    # 해당 이미지에 대한 annotation 정보 추출\n",
    "    image_annotations = [ann for ann in annotations['images'][image_info]['words']]\n",
    "    box = []\n",
    "    transcription = []\n",
    "    for i in image_annotations:\n",
    "        transcription.append(annotations['images'][image_info]['words'][i]['transcription'])\n",
    "        box.append(annotations['images'][image_info]['words'][i]['points'])\n",
    "\n",
    "    # 박스 시각화 및 텍스트 쓰기\n",
    "    for i, box in enumerate(box):\n",
    "        x1 = min(box[0][0],box[1][0],box[2][0],box[3][0])\n",
    "        y1=min(box[0][1],box[1][1],box[2][1],box[3][1])\n",
    "        x2=max(box[0][0],box[1][0],box[2][0],box[3][0])\n",
    "        y2=max(box[0][1],box[1][1],box[2][1],box[3][1])\n",
    "        transcription_word = transcription[i]\n",
    "\n",
    "        # 박스 그리기\n",
    "        draw.rectangle([(x1, y1), (x2, y2)], outline='red', width=1)\n",
    "\n",
    "        # 텍스트 쓰기\n",
    "        text_origin = (x1, y1 - font_size - 5)  # 텍스트 시작 위치\n",
    "        draw.text(text_origin, transcription_word, font=font, fill=font_color)\n",
    "\n",
    "    # 결과 이미지 저장\n",
    "    output_path = os.path.join('../data/medical/img/output', 'output_{}.jpg'.format(str(image_info).zfill(4)))\n",
    "    image.save(output_path)"
   ]
  },
  {
   "cell_type": "code",
   "execution_count": null,
   "id": "f97d94c6-db7b-4691-9001-e5a1856c2f87",
   "metadata": {},
   "outputs": [],
   "source": [
    "#폰트설치해줘야함\n",
    "#apt-get install sudo (sudo설치)\n",
    "#sudo apt-get install fonts-nanum\n",
    "#sudo fc-cache -fv\n"
   ]
  }
 ],
 "metadata": {
  "kernelspec": {
   "display_name": "Python 3 (ipykernel)",
   "language": "python",
   "name": "python3"
  },
  "language_info": {
   "codemirror_mode": {
    "name": "ipython",
    "version": 3
   },
   "file_extension": ".py",
   "mimetype": "text/x-python",
   "name": "python",
   "nbconvert_exporter": "python",
   "pygments_lexer": "ipython3",
   "version": "3.8.5"
  }
 },
 "nbformat": 4,
 "nbformat_minor": 5
}
